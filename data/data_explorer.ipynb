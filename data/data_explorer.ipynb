{
 "cells": [
  {
   "cell_type": "code",
   "execution_count": 1,
   "metadata": {},
   "outputs": [],
   "source": [
    "import pathlib\n",
    "import pandas as pd\n",
    "\n",
    "\n",
    "# pd.set_option('display.max_rows', 1000)\n",
    "# pd.set_option('display.max_columns', 100)\n"
   ]
  },
  {
   "cell_type": "code",
   "execution_count": 2,
   "metadata": {},
   "outputs": [],
   "source": [
    "field_names = [\n",
    "#     'Валынтойское',\n",
    "#     'Восточно-Мессояхское',\n",
    "    'Вынгаяхинское',\n",
    "    'Западно-Чатылькинское',\n",
    "#     'Крайнее',\n",
    "#     'Отдельное',\n",
    "#     'Романовское',\n",
    "#     'Холмистое',\n",
    "#     'Холмогорское',\n",
    "#     'Чатылькинское',\n",
    "]\n",
    "table_names = [\n",
    "    'welllist',\n",
    "    'wellplast',\n",
    "    'projectlist',\n",
    "    'projectcoord',\n",
    "    'coordplast',\n",
    "    'coord',\n",
    "    'sppl',\n",
    "    'fond',\n",
    "    'sost',\n",
    "    'merop',\n",
    "#     'frac',  # Таблица frac отсутсвует по месторождению Западно-Чатылькинское\n",
    "    'mersum',\n",
    "    'troil',\n",
    "    'sh',\n",
    "#     'sh_sost_fond',\n",
    "]\n",
    "folder_name = '2018_1_2021_4'\n"
   ]
  },
  {
   "cell_type": "code",
   "execution_count": 3,
   "metadata": {},
   "outputs": [
    {
     "name": "stdout",
     "output_type": "stream",
     "text": [
      "Directory \"D:\\Code\\tools_data_wizard\\data\\Вынгаяхинское\\2018_1_2021_4\" is not exist. Change field name or folder name.\n"
     ]
    }
   ],
   "source": [
    "data = {}\n",
    "for field_name in field_names:\n",
    "    path = pathlib.Path.cwd() / field_name / folder_name\n",
    "    if not path.exists():\n",
    "        print(f'Directory \"{path}\" is not exist. Change field name or folder name.')\n",
    "        continue\n",
    "    data[field_name] = {}\n",
    "    for table_name in table_names: \n",
    "        try:\n",
    "            data[field_name][table_name] = pd.read_feather(path / f'{table_name}.feather')\n",
    "        except FileNotFoundError:\n",
    "            print(f'Table {table_name} for {field_name} is not exist.')\n"
   ]
  },
  {
   "cell_type": "markdown",
   "metadata": {},
   "source": [
    "### Просмотр таблиц конкретного месторождения"
   ]
  },
  {
   "cell_type": "code",
   "execution_count": 4,
   "metadata": {},
   "outputs": [],
   "source": [
    "field_name_base = 'Вынгаяхинское'  # Старое месторождение из ГРАДа\n",
    "field_name_view = 'Западно-Чатылькинское'  # Новое месторождение из ГРАДа\n"
   ]
  },
  {
   "cell_type": "code",
   "execution_count": null,
   "metadata": {},
   "outputs": [],
   "source": [
    "for table_name in table_names:\n",
    "    print('-----')\n",
    "    print(table_name)\n",
    "    print('-----')\n",
    "    df_base = data[field_name_base][table_name]\n",
    "    df_view = data[field_name_view][table_name]\n",
    "    # Проверка наличия одинаковых столбцов в таблицах.\n",
    "    is_same_col_names = set(df_base.columns) == set(df_view.columns)\n",
    "    print(is_same_col_names)\n",
    "    # Проверка типов данных в столбцах.\n",
    "    try:\n",
    "        is_same_col_types = df_base.dtypes.sort_index() == df_view.dtypes.sort_index()\n",
    "    except Exception as exc:\n",
    "        print(exc)\n",
    "        continue\n",
    "    else:\n",
    "        print(is_same_col_types)\n",
    "    finally:\n",
    "        print(end='\\n\\n')\n",
    "    "
   ]
  },
  {
   "cell_type": "code",
   "execution_count": null,
   "metadata": {},
   "outputs": [],
   "source": [
    "table_name = 'sppl'"
   ]
  },
  {
   "cell_type": "code",
   "execution_count": null,
   "metadata": {},
   "outputs": [],
   "source": [
    "data[field_name_base][table_name]"
   ]
  },
  {
   "cell_type": "code",
   "execution_count": null,
   "metadata": {},
   "outputs": [],
   "source": [
    "data[field_name_view][table_name]"
   ]
  },
  {
   "cell_type": "code",
   "execution_count": null,
   "metadata": {},
   "outputs": [],
   "source": []
  },
  {
   "cell_type": "code",
   "execution_count": null,
   "metadata": {},
   "outputs": [],
   "source": []
  },
  {
   "cell_type": "code",
   "execution_count": null,
   "metadata": {},
   "outputs": [],
   "source": []
  },
  {
   "cell_type": "code",
   "execution_count": null,
   "metadata": {},
   "outputs": [],
   "source": []
  },
  {
   "cell_type": "code",
   "execution_count": null,
   "metadata": {},
   "outputs": [],
   "source": []
  },
  {
   "cell_type": "code",
   "execution_count": null,
   "metadata": {},
   "outputs": [],
   "source": []
  },
  {
   "cell_type": "code",
   "execution_count": null,
   "metadata": {},
   "outputs": [],
   "source": []
  },
  {
   "cell_type": "code",
   "execution_count": null,
   "metadata": {},
   "outputs": [],
   "source": []
  },
  {
   "cell_type": "code",
   "execution_count": null,
   "metadata": {},
   "outputs": [],
   "source": []
  },
  {
   "cell_type": "code",
   "execution_count": null,
   "metadata": {},
   "outputs": [],
   "source": []
  },
  {
   "cell_type": "code",
   "execution_count": null,
   "metadata": {},
   "outputs": [],
   "source": [
    "data[field_name_base][table_name]"
   ]
  },
  {
   "cell_type": "code",
   "execution_count": null,
   "metadata": {},
   "outputs": [],
   "source": [
    "df_fond = data[field_name_view]['fond']\n",
    "df_sost = data[field_name_view]['sost']\n",
    "df_merop = data[field_name_view]['merop']\n",
    "df_sh = data[field_name_view]['sh']\n",
    "# df_sh_sost_fond = data[field_name_view]['sh_sost_fond']\n"
   ]
  },
  {
   "cell_type": "code",
   "execution_count": null,
   "metadata": {},
   "outputs": [],
   "source": [
    "df_sost"
   ]
  },
  {
   "cell_type": "code",
   "execution_count": null,
   "metadata": {},
   "outputs": [],
   "source": [
    "print(len(df_sh['well.ois'].unique()))\n",
    "print(len(df_sh_sost_fond['well.ois'].unique()))\n"
   ]
  },
  {
   "cell_type": "code",
   "execution_count": null,
   "metadata": {},
   "outputs": [],
   "source": [
    "df_sh_sost_fond"
   ]
  },
  {
   "cell_type": "code",
   "execution_count": null,
   "metadata": {},
   "outputs": [],
   "source": [
    "df_sh_specific = df_sh[[\n",
    "    'dt',\n",
    "    'Дебит жидкости среднесуточный',\n",
    "    'Дебит нефти расчетный',\n",
    "    'Давление забойное от Pпр',\n",
    "    'Приемистость среднесуточная',\n",
    "    'Давление забойное от Hд',\n",
    "    'Частота вращения (ТМ)',\n",
    "]]\n",
    "df_sh_specific.count()\n"
   ]
  },
  {
   "cell_type": "code",
   "execution_count": null,
   "metadata": {},
   "outputs": [],
   "source": [
    "df_sh_sost_fond.count()"
   ]
  },
  {
   "cell_type": "code",
   "execution_count": null,
   "metadata": {},
   "outputs": [],
   "source": [
    "df_sh_sost_fond"
   ]
  },
  {
   "cell_type": "code",
   "execution_count": null,
   "metadata": {},
   "outputs": [],
   "source": [
    "df_sh_sost_fond_work = df_sh_sost_fond.loc[\n",
    "    (df_sh_sost_fond['sost'] == 'В работе') &\n",
    "    (df_sh_sost_fond['charwork.name'].isin(['Нефтяные']))\n",
    "#     (df_sh_sost_fond['charwork.name'].isin(['Нагнетательные']))\n",
    "]\n",
    "df_sh_sost_fond_work.count()\n"
   ]
  },
  {
   "cell_type": "code",
   "execution_count": null,
   "metadata": {},
   "outputs": [],
   "source": [
    "data['Восточно-Мессояхское']['wellplast']"
   ]
  },
  {
   "cell_type": "code",
   "execution_count": null,
   "metadata": {},
   "outputs": [],
   "source": [
    "data['Восточно-Мессояхское']['sppl']"
   ]
  },
  {
   "cell_type": "code",
   "execution_count": null,
   "metadata": {},
   "outputs": [],
   "source": [
    "data['Восточно-Мессояхское']['troil']"
   ]
  },
  {
   "cell_type": "code",
   "execution_count": null,
   "metadata": {},
   "outputs": [],
   "source": [
    "data['Восточно-Мессояхское']['mersum'].dtypes"
   ]
  },
  {
   "cell_type": "markdown",
   "metadata": {},
   "source": [
    "### Просмотр таблиц конкретной скважины месторождения"
   ]
  },
  {
   "cell_type": "code",
   "execution_count": null,
   "metadata": {},
   "outputs": [],
   "source": [
    "well_name_view = 3350005600"
   ]
  },
  {
   "cell_type": "code",
   "execution_count": null,
   "metadata": {},
   "outputs": [],
   "source": [
    "df_fond.loc[df_fond['well.ois'] == well_name_view]"
   ]
  },
  {
   "cell_type": "code",
   "execution_count": null,
   "metadata": {},
   "outputs": [],
   "source": [
    "df_sost[df_sost['well.ois'] == well_name_view]"
   ]
  },
  {
   "cell_type": "code",
   "execution_count": null,
   "metadata": {},
   "outputs": [],
   "source": [
    "df_merop[df_merop['well.ois'] == well_name_view]"
   ]
  },
  {
   "cell_type": "markdown",
   "metadata": {},
   "source": [
    "### Анализ общей sh таблицы по всем месторождениям"
   ]
  },
  {
   "cell_type": "code",
   "execution_count": null,
   "metadata": {},
   "outputs": [],
   "source": [
    "table_name = 'sh'\n",
    "dfs = []\n",
    "for field_name in field_names:\n",
    "    df = data[field_name][table_name]\n",
    "    df.insert(loc=0, column='field', value=field_name)\n",
    "    dfs.append(df)\n",
    "df = pd.concat(objs=dfs, ignore_index=True)\n",
    "\n",
    "n = len(df.index)\n",
    "# round(df.count() / n * 100, 5)\n",
    "round(df.count().sort_values(ascending=False) / n * 100, 5)\n"
   ]
  },
  {
   "cell_type": "code",
   "execution_count": null,
   "metadata": {},
   "outputs": [],
   "source": [
    "df.count()"
   ]
  },
  {
   "cell_type": "code",
   "execution_count": null,
   "metadata": {},
   "outputs": [],
   "source": []
  }
 ],
 "metadata": {
  "kernelspec": {
   "display_name": "Python 3",
   "language": "python",
   "name": "python3"
  },
  "language_info": {
   "codemirror_mode": {
    "name": "ipython",
    "version": 3
   },
   "file_extension": ".py",
   "mimetype": "text/x-python",
   "name": "python",
   "nbconvert_exporter": "python",
   "pygments_lexer": "ipython3",
   "version": "3.8.5"
  }
 },
 "nbformat": 4,
 "nbformat_minor": 4
}
